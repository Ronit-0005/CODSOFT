{
 "cells": [
  {
   "cell_type": "code",
   "execution_count": 1,
   "id": "eac23a16-3a8e-4407-9004-dac9ed888c3f",
   "metadata": {},
   "outputs": [
    {
     "name": "stdout",
     "output_type": "stream",
     "text": [
      "Welcome to Tic-Tac-Toe! You are 'X', AI is 'O'.\n"
     ]
    },
    {
     "name": "stdin",
     "output_type": "stream",
     "text": [
      "Do you want to go first? (y/n):  X\n"
     ]
    },
    {
     "name": "stdout",
     "output_type": "stream",
     "text": [
      "\n",
      "\n",
      "|   |   |   |\n",
      "|   |   |   |\n",
      "|   |   |   |\n",
      "\n",
      "\n",
      "AI moved:\n",
      "\n",
      "\n",
      "| O |   |   |\n",
      "|   |   |   |\n",
      "|   |   |   |\n",
      "\n",
      "\n"
     ]
    },
    {
     "name": "stdin",
     "output_type": "stream",
     "text": [
      "Enter your move (1-9):  2-2\n"
     ]
    },
    {
     "name": "stdout",
     "output_type": "stream",
     "text": [
      "Invalid input. Please enter a number from 1 to 9.\n"
     ]
    },
    {
     "name": "stdin",
     "output_type": "stream",
     "text": [
      "Enter your move (1-9):  2\n"
     ]
    },
    {
     "name": "stdout",
     "output_type": "stream",
     "text": [
      "\n",
      "\n",
      "| O | X |   |\n",
      "|   |   |   |\n",
      "|   |   |   |\n",
      "\n",
      "\n",
      "AI moved:\n",
      "\n",
      "\n",
      "| O | X |   |\n",
      "| O |   |   |\n",
      "|   |   |   |\n",
      "\n",
      "\n"
     ]
    },
    {
     "name": "stdin",
     "output_type": "stream",
     "text": [
      "Enter your move (1-9):  7\n"
     ]
    },
    {
     "name": "stdout",
     "output_type": "stream",
     "text": [
      "\n",
      "\n",
      "| O | X |   |\n",
      "| O |   |   |\n",
      "| X |   |   |\n",
      "\n",
      "\n",
      "AI moved:\n",
      "\n",
      "\n",
      "| O | X |   |\n",
      "| O | O |   |\n",
      "| X |   |   |\n",
      "\n",
      "\n"
     ]
    },
    {
     "name": "stdin",
     "output_type": "stream",
     "text": [
      "Enter your move (1-9):  6\n"
     ]
    },
    {
     "name": "stdout",
     "output_type": "stream",
     "text": [
      "\n",
      "\n",
      "| O | X |   |\n",
      "| O | O | X |\n",
      "| X |   |   |\n",
      "\n",
      "\n",
      "AI moved:\n",
      "\n",
      "\n",
      "| O | X |   |\n",
      "| O | O | X |\n",
      "| X |   | O |\n",
      "\n",
      "\n",
      "😔 You lost!\n"
     ]
    }
   ],
   "source": [
    "import math\n",
    "\n",
    "board = [' ' for _ in range(9)]\n",
    "\n",
    "def print_board():\n",
    "    print(\"\\n\")\n",
    "    for row in [board[i * 3:(i + 1) * 3] for i in range(3)]:\n",
    "        print('| ' + ' | '.join(row) + ' |')\n",
    "    print(\"\\n\")\n",
    "\n",
    "# Check for Winner\n",
    "def check_winner(brd, player):\n",
    "    win_conditions = [\n",
    "        [0, 1, 2], [3, 4, 5], [6, 7, 8], # rows\n",
    "        [0, 3, 6], [1, 4, 7], [2, 5, 8], # columns\n",
    "        [0, 4, 8], [2, 4, 6]             # diagonals\n",
    "    ]\n",
    "    for condition in win_conditions:\n",
    "        if all(brd[i] == player for i in condition):\n",
    "            return True\n",
    "    return False\n",
    "\n",
    "# Check if Draw\n",
    "def is_draw(brd):\n",
    "    return ' ' not in brd\n",
    "\n",
    "# Minimax Algorithm\n",
    "def minimax(brd, depth, is_maximizing, alpha=-math.inf, beta=math.inf):\n",
    "    if check_winner(brd, 'O'):\n",
    "        return 1\n",
    "    elif check_winner(brd, 'X'):\n",
    "        return -1\n",
    "    elif is_draw(brd):\n",
    "        return 0\n",
    "\n",
    "    if is_maximizing:\n",
    "        best_score = -math.inf\n",
    "        for i in range(9):\n",
    "            if brd[i] == ' ':\n",
    "                brd[i] = 'O'\n",
    "                score = minimax(brd, depth + 1, False, alpha, beta)\n",
    "                brd[i] = ' '\n",
    "                best_score = max(score, best_score)\n",
    "                alpha = max(alpha, score)\n",
    "                if beta <= alpha:\n",
    "                    break\n",
    "        return best_score\n",
    "    else:\n",
    "        best_score = math.inf\n",
    "        for i in range(9):\n",
    "            if brd[i] == ' ':\n",
    "                brd[i] = 'X'\n",
    "                score = minimax(brd, depth + 1, True, alpha, beta)\n",
    "                brd[i] = ' '\n",
    "                best_score = min(score, best_score)\n",
    "                beta = min(beta, score)\n",
    "                if beta <= alpha:\n",
    "                    break\n",
    "        return best_score\n",
    "\n",
    "# AI Move\n",
    "def ai_move():\n",
    "    best_score = -math.inf\n",
    "    move = None\n",
    "    for i in range(9):\n",
    "        if board[i] == ' ':\n",
    "            board[i] = 'O'\n",
    "            score = minimax(board, 0, False)\n",
    "            board[i] = ' '\n",
    "            if score > best_score:\n",
    "                best_score = score\n",
    "                move = i\n",
    "    board[move] = 'O'\n",
    "\n",
    "# Player Move\n",
    "def player_move():\n",
    "    while True:\n",
    "        try:\n",
    "            move = int(input(\"Enter your move (1-9): \")) - 1\n",
    "            if board[move] == ' ':\n",
    "                board[move] = 'X'\n",
    "                break\n",
    "            else:\n",
    "                print(\"Cell already taken. Try again.\")\n",
    "        except (ValueError, IndexError):\n",
    "            print(\"Invalid input. Please enter a number from 1 to 9.\")\n",
    "\n",
    "# Main Game Loop\n",
    "def play_game():\n",
    "    print(\"Welcome to Tic-Tac-Toe! You are 'X', AI is 'O'.\")\n",
    "    first = input(\"Do you want to go first? (y/n): \").lower()\n",
    "    print_board()\n",
    "\n",
    "    for _ in range(9):\n",
    "        if is_draw(board):\n",
    "            break\n",
    "\n",
    "        if first == 'y':\n",
    "            player_move()\n",
    "            print_board()\n",
    "            if check_winner(board, 'X'):\n",
    "                print(\"🎉 You win!\")\n",
    "                return\n",
    "            if not is_draw(board):\n",
    "                ai_move()\n",
    "                print(\"AI moved:\")\n",
    "                print_board()\n",
    "                if check_winner(board, 'O'):\n",
    "                    print(\"😔 You lost!\")\n",
    "                    return\n",
    "        else:\n",
    "            ai_move()\n",
    "            print(\"AI moved:\")\n",
    "            print_board()\n",
    "            if check_winner(board, 'O'):\n",
    "                print(\"😔 You lost!\")\n",
    "                return\n",
    "            if not is_draw(board):\n",
    "                player_move()\n",
    "                print_board()\n",
    "                if check_winner(board, 'X'):\n",
    "                    print(\"🎉 You win!\")\n",
    "                    return\n",
    "\n",
    "    print(\"It's a draw!\")\n",
    "\n",
    "# Start the game\n",
    "play_game()\n"
   ]
  },
  {
   "cell_type": "code",
   "execution_count": null,
   "id": "0b81b82c-3f4d-4b86-bae7-4952dce9d368",
   "metadata": {},
   "outputs": [],
   "source": []
  }
 ],
 "metadata": {
  "kernelspec": {
   "display_name": "Python 3 (ipykernel)",
   "language": "python",
   "name": "python3"
  },
  "language_info": {
   "codemirror_mode": {
    "name": "ipython",
    "version": 3
   },
   "file_extension": ".py",
   "mimetype": "text/x-python",
   "name": "python",
   "nbconvert_exporter": "python",
   "pygments_lexer": "ipython3",
   "version": "3.12.7"
  }
 },
 "nbformat": 4,
 "nbformat_minor": 5
}
